{
 "cells": [
  {
   "cell_type": "code",
   "execution_count": null,
   "id": "2a0842ba",
   "metadata": {},
   "outputs": [],
   "source": [
    "# install required packages\n",
    "install.packages(c(\"leaflet\", \"sf\", \"jsonlite\", \"httr\", \"shiny\"))"
   ]
  },
  {
   "cell_type": "code",
   "execution_count": null,
   "id": "ee314b00",
   "metadata": {
    "vscode": {
     "languageId": "r"
    }
   },
   "outputs": [],
   "source": [
    "# load packages\n",
    "library(\"leaflet\")\n",
    "library(\"sf\")\n",
    "library(\"jsonlite\")\n",
    "library(\"httr\")\n",
    "library(\"shiny\")"
   ]
  },
  {
   "cell_type": "code",
   "execution_count": null,
   "id": "6618259d",
   "metadata": {
    "vscode": {
     "languageId": "r"
    }
   },
   "outputs": [],
   "source": [
    "# define maximum features\n",
    "maxfeatures <- 2000\n",
    "\n",
    "# create empty data frame\n",
    "df_total <- data.frame()\n",
    "\n",
    "# input parameters for bbox and key\n",
    "bbox <- \"-3.545247,50.725949,-3.538380,50.729229\"\n",
    "key <- \"INSERT_API_KEY_HERE\"\n",
    "collection_name <- \"bld-fts-buildingpart\"\n",
    "\n",
    "# call Maps API for basemapping\n",
    "OSLight_3857 <- paste0(\"https://api.os.uk/maps/raster/v1/zxy/Light_3857/{z}/{x}/{y}.png?key=\", key)\n",
    "\n",
    "# return json data from API\n",
    "url <- paste0(\"https://api.os.uk/features/ngd/ofa/v1/collections/\", collection_name, \"/items?bbox=\", bbox)\n",
    "rawdata <- GET(url, add_headers(key=key))\n",
    "json <- fromJSON(rawToChar(rawdata$content), flatten=TRUE)\n",
    "sf <- read_sf(GET(url, add_headers(key=key)), as_tibble=FALSE)"
   ]
  },
  {
   "cell_type": "code",
   "execution_count": null,
   "id": "14aa6696",
   "metadata": {
    "vscode": {
     "languageId": "r"
    }
   },
   "outputs": [],
   "source": [
    "# add first 100 features from API response to data frame\n",
    "df_total = rbind(df_total, sf)\n",
    "\n",
    "# page through API binding to data frame until maximum features reached, or all features collected\n",
    "while (TRUE) {\n",
    "    if (\"Next page\" == tail(json$links$title, n=1)&maxfeatures>(nrow(df_total))) {\n",
    "        url <- (tail(json$links$href, n=1))\n",
    "        rawdata <- GET(url, add_headers(key=key))\n",
    "        json <- fromJSON(rawToChar(rawdata$content), flatten=TRUE)\n",
    "        sf <- read_sf(GET(url, add_headers(key=key)), as_tibble=FALSE)\n",
    "        df_total <- rbind(df_total, sf)\n",
    "    }\n",
    "    else {\n",
    "        break\n",
    "    }\n",
    "}"
   ]
  },
  {
   "cell_type": "code",
   "execution_count": null,
   "id": "fba4f56b",
   "metadata": {
    "vscode": {
     "languageId": "r"
    }
   },
   "outputs": [],
   "source": [
    "# define app server functions for shiny \n",
    "server <- function(input, output, session) {\n",
    "    output$map <- renderLeaflet({\n",
    "        m <- leaflet() %>%\n",
    "        addTiles(OSLight_3857) %>%\n",
    "        setView(lng=-3.541809, lat=50.727589, zoom=17) %>%\n",
    "        addPolygons(data=df_total, color=\"#3388ff\", weight=1, opacity=1.0, fillOpacity=0.5)\n",
    "    })\n",
    "}\n",
    "\n",
    "# define app front-end\n",
    "ui <- fluidPage(\n",
    "    leafletOutput(\"map\", height=600)\n",
    ")\n",
    "\n",
    "# run app\n",
    "shinyApp(ui, server)"
   ]
  }
 ],
 "metadata": {
  "kernelspec": {
   "display_name": "R",
   "language": "R",
   "name": "ir"
  },
  "language_info": {
   "codemirror_mode": "r",
   "file_extension": ".r",
   "mimetype": "text/x-r-source",
   "name": "R",
   "pygments_lexer": "r",
   "version": "4.1.2"
  },
  "vscode": {
   "interpreter": {
    "hash": "11938c6bc6919ae2720b4d5011047913343b08a43b18698fd82dedb0d4417594"
   }
  }
 },
 "nbformat": 4,
 "nbformat_minor": 5
}
